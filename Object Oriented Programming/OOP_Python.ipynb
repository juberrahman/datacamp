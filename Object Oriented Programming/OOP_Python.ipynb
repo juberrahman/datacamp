{
  "nbformat": 4,
  "nbformat_minor": 0,
  "metadata": {
    "colab": {
      "name": "OOP_Python.ipynb",
      "provenance": [],
      "authorship_tag": "ABX9TyPkUed5rtxytshJrf3FhB6O",
      "include_colab_link": true
    },
    "kernelspec": {
      "name": "python3",
      "display_name": "Python 3"
    }
  },
  "cells": [
    {
      "cell_type": "markdown",
      "metadata": {
        "id": "view-in-github",
        "colab_type": "text"
      },
      "source": [
        "<a href=\"https://colab.research.google.com/github/juberrahman/datacamp/blob/master/OOP_Python.ipynb\" target=\"_parent\"><img src=\"https://colab.research.google.com/assets/colab-badge.svg\" alt=\"Open In Colab\"/></a>"
      ]
    },
    {
      "cell_type": "markdown",
      "metadata": {
        "id": "t0KvUwgD24_0",
        "colab_type": "text"
      },
      "source": [
        "## Creating a complex data type"
      ]
    },
    {
      "cell_type": "code",
      "metadata": {
        "id": "GfUCqmuz27YM",
        "colab_type": "code",
        "outputId": "f3070f2d-0fdc-425f-9234-7829ce135498",
        "colab": {
          "base_uri": "https://localhost:8080/",
          "height": 34
        }
      },
      "source": [
        "# Create a list that contains two lists: matrix\n",
        "matrix = [[1,2,3,4], [5,6,7,8]]\n",
        "\n",
        "# Print the matrix list\n",
        "print(matrix)"
      ],
      "execution_count": 0,
      "outputs": [
        {
          "output_type": "stream",
          "text": [
            "[[1, 2, 3, 4], [5, 6, 7, 8]]\n"
          ],
          "name": "stdout"
        }
      ]
    },
    {
      "cell_type": "markdown",
      "metadata": {
        "id": "N83qetuq2c-B",
        "colab_type": "text"
      },
      "source": [
        "## Creating functions"
      ]
    },
    {
      "cell_type": "code",
      "metadata": {
        "id": "H_HLY3A51NQQ",
        "colab_type": "code",
        "outputId": "0e46282e-b223-4718-abab-26ee738597d2",
        "colab": {
          "base_uri": "https://localhost:8080/",
          "height": 34
        }
      },
      "source": [
        "# Create function that returns the average of an integer list\n",
        "def average_numbers(num_list): \n",
        "    avg = sum(num_list)/float(len(num_list)) # divide by length of list\n",
        "    return avg\n",
        "\n",
        "# Take the average of a list: my_avg\n",
        "my_avg = average_numbers([1, 2, 3, 4, 5, 6])\n",
        "\n",
        "# Print out my_avg\n",
        "print(my_avg)"
      ],
      "execution_count": 0,
      "outputs": [
        {
          "output_type": "stream",
          "text": [
            "3.5\n"
          ],
          "name": "stdout"
        }
      ]
    },
    {
      "cell_type": "markdown",
      "metadata": {
        "id": "ZxCvz3qX4rTj",
        "colab_type": "text"
      },
      "source": [
        "## Create a function that returns a NumPy array"
      ]
    },
    {
      "cell_type": "code",
      "metadata": {
        "id": "p3DecRj_4tX_",
        "colab_type": "code",
        "outputId": "415ef14e-2381-40e8-cc12-052528bbc673",
        "colab": {
          "base_uri": "https://localhost:8080/",
          "height": 51
        }
      },
      "source": [
        "# Import numpy as np\n",
        "import numpy as np\n",
        "\n",
        "# List input: my_matrix\n",
        "my_matrix = [[1,2,3,4], [5,6,7,8]] \n",
        "\n",
        "# Function that converts lists to arrays: return_array\n",
        "def return_array(matrix):\n",
        "    array = np.array(matrix, dtype = float)\n",
        "    return array\n",
        "    \n",
        "# Call return_array on my_matrix, and print the output\n",
        "print(return_array([[1,2,3,4], [5,6,7,8]]))"
      ],
      "execution_count": 0,
      "outputs": [
        {
          "output_type": "stream",
          "text": [
            "[[1. 2. 3. 4.]\n",
            " [5. 6. 7. 8.]]\n"
          ],
          "name": "stdout"
        }
      ]
    },
    {
      "cell_type": "markdown",
      "metadata": {
        "id": "BLNMunLv9U82",
        "colab_type": "text"
      },
      "source": [
        "## Create a class and instance a variable"
      ]
    },
    {
      "cell_type": "code",
      "metadata": {
        "id": "mkAnd7Qo4x8U",
        "colab_type": "code",
        "outputId": "f988bae2-1bd8-4b5b-e53a-9ff4cf2ca27a",
        "colab": {
          "base_uri": "https://localhost:8080/",
          "height": 34
        }
      },
      "source": [
        "# Create class: DataShell\n",
        "class DataShell:\n",
        "  \n",
        "\t# Initialize class with self and integerInput arguments\n",
        "    def __init__(self, integerInput):\n",
        "      \n",
        "\t\t# Set data as instance variable, and assign the value of integerInput\n",
        "        self.data = integerInput\n",
        "\n",
        "# Declare variable x with value of 10\n",
        "x = 10      \n",
        "\n",
        "# Instantiate DataShell passing x as argument: my_data_shell\n",
        "my_data_shell = DataShell(x)\n",
        "\n",
        "# Print my_data_shell\n",
        "print(my_data_shell.data)"
      ],
      "execution_count": 0,
      "outputs": [
        {
          "output_type": "stream",
          "text": [
            "10\n"
          ],
          "name": "stdout"
        }
      ]
    },
    {
      "cell_type": "markdown",
      "metadata": {
        "id": "-t75bRqrCqD8",
        "colab_type": "text"
      },
      "source": [
        "## instance multiple variables"
      ]
    },
    {
      "cell_type": "code",
      "metadata": {
        "id": "jYd6ZkfnColc",
        "colab_type": "code",
        "outputId": "9a652077-a61f-4323-b108-27aec37b08b6",
        "colab": {
          "base_uri": "https://localhost:8080/",
          "height": 51
        }
      },
      "source": [
        "# Create class: DataShell\n",
        "class DataShell:\n",
        "  \n",
        "\t# Initialize class with self, identifier and data arguments\n",
        "    def __init__(self, identifier, data):\n",
        "      \n",
        "\t\t# Set identifier and data as instance variables, assigning value of input arguments\n",
        "        self.identifier = identifier\n",
        "        self.data = data\n",
        "\n",
        "# Declare variable x with value of 100, and y with list of integers from 1 to 5\n",
        "x = 100\n",
        "y = [1, 2, 3, 4, 5]\n",
        "\n",
        "# Instantiate DataShell passing x and y as arguments: my_data_shell\n",
        "my_data_shell = DataShell(x, y)\n",
        "\n",
        "# Print my_data_shell.identifier\n",
        "print(my_data_shell.identifier)\n",
        "\n",
        "# Print my_data_shell.data\n",
        "print(my_data_shell.data)"
      ],
      "execution_count": 0,
      "outputs": [
        {
          "output_type": "stream",
          "text": [
            "100\n",
            "[1, 2, 3, 4, 5]\n"
          ],
          "name": "stdout"
        }
      ]
    },
    {
      "cell_type": "markdown",
      "metadata": {
        "id": "D7JmwURDCxpx",
        "colab_type": "text"
      },
      "source": [
        "## specify Class Variables"
      ]
    },
    {
      "cell_type": "code",
      "metadata": {
        "id": "F41aByRRDvHE",
        "colab_type": "code",
        "outputId": "ea624668-7d77-41d3-f0c3-fb75f8545ba0",
        "colab": {
          "base_uri": "https://localhost:8080/",
          "height": 34
        }
      },
      "source": [
        "# Create class: DataShell\n",
        "class DataShell:\n",
        "  \n",
        "    # Declare a class variable family, and assign value of \"DataShell\"\n",
        "    family = \"DataShell\"\n",
        "    \n",
        "    # Initialize class with self, identifier arguments\n",
        "    def __init__(self, identifier):\n",
        "      \n",
        "        # Set identifier as instance variable of input argument\n",
        "        self.identifier = identifier\n",
        "\n",
        "# Declare variable x with value of 100\n",
        "x = 100\n",
        "\n",
        "# Instantiate DataShell passing x as argument: my_data_shell\n",
        "my_data_shell = DataShell(x)\n",
        "\n",
        "# Print my_data_shell class variable family\n",
        "print(my_data_shell.family)"
      ],
      "execution_count": 0,
      "outputs": [
        {
          "output_type": "stream",
          "text": [
            "DataShell\n"
          ],
          "name": "stdout"
        }
      ]
    },
    {
      "cell_type": "markdown",
      "metadata": {
        "id": "GGD6uGL8EY4D",
        "colab_type": "text"
      },
      "source": [
        "## Override class variable"
      ]
    },
    {
      "cell_type": "code",
      "metadata": {
        "id": "lL_R3w83E_fW",
        "colab_type": "code",
        "outputId": "ba2dd22c-2f95-4691-9582-9b30e48d265d",
        "colab": {
          "base_uri": "https://localhost:8080/",
          "height": 51
        }
      },
      "source": [
        "# Create class: DataShell\n",
        "class DataShell:\n",
        "  \n",
        "    # Declare a class variable family, and assign value of \"DataShell\"\n",
        "    family = \"DataShell\"\n",
        "    \n",
        "    # Initialize class with self, identifier arguments\n",
        "    def __init__(self, identifier):\n",
        "      \n",
        "        # Set identifier as instance variables, assigning value of input arguments\n",
        "        self.identifier = identifier\n",
        "\n",
        "# Declare variable x with value of 100\n",
        "x = 100\n",
        "\n",
        "# Instantiate DataShell passing x as the argument: my_data_shell\n",
        "my_data_shell = DataShell(x)\n",
        "\n",
        "# Print my_data_shell class variable family\n",
        "print(my_data_shell.family)\n",
        "\n",
        "# Override the my_data_shell.family value with \"NotDataShell\"\n",
        "my_data_shell.family = \"NotDataShell\"\n",
        "\n",
        "# Print my_data_shell class variable family once again\n",
        "print(my_data_shell.family)"
      ],
      "execution_count": 0,
      "outputs": [
        {
          "output_type": "stream",
          "text": [
            "DataShell\n",
            "NotDataShell\n"
          ],
          "name": "stdout"
        }
      ]
    },
    {
      "cell_type": "markdown",
      "metadata": {
        "id": "YKKpmHy9FDMA",
        "colab_type": "text"
      },
      "source": [
        "## access instance variable"
      ]
    },
    {
      "cell_type": "code",
      "metadata": {
        "id": "U_Nt4704oc_0",
        "colab_type": "code",
        "outputId": "be49f727-3760-4bbe-a251-7176b756f6a1",
        "colab": {
          "base_uri": "https://localhost:8080/",
          "height": 34
        }
      },
      "source": [
        "# Create class: DataShell\n",
        "class DataShell:\n",
        "    name='Juber'\n",
        "  \n",
        "\t# Initialize class with self and dataList as arguments\n",
        "    def __init__(self, datalist):\n",
        "      \t# Set data as instance variable, and assign it the value of dataList\n",
        "        self.data = datalist\n",
        "        \n",
        "\t# Define class method which takes self argument: show\n",
        "    def show(self):\n",
        "        # Print the instance variable data\n",
        "        print(self.data)\n",
        "\n",
        "# Declare variable with list of integers from 1 to 10: integer_list   \n",
        "integer_list = [1, 2, 3, 4, 5, 6, 7, 8, 9, 10]\n",
        "        \n",
        "# Instantiate DataShell taking integer_list as argument: my_data_shell\n",
        "my_data_shell = DataShell(integer_list)\n",
        "\n",
        "# Call the show method of your newly created object\n",
        "my_data_shell.show()\n"
      ],
      "execution_count": 0,
      "outputs": [
        {
          "output_type": "stream",
          "text": [
            "[1, 2, 3, 4, 5, 6, 7, 8, 9, 10]\n"
          ],
          "name": "stdout"
        }
      ]
    },
    {
      "cell_type": "markdown",
      "metadata": {
        "id": "427qaFH6pWfN",
        "colab_type": "text"
      },
      "source": [
        "## do an operation on instance variable "
      ]
    },
    {
      "cell_type": "code",
      "metadata": {
        "id": "PyC739LiqSFS",
        "colab_type": "code",
        "outputId": "ff757f00-cbee-417d-f931-10b212db2844",
        "colab": {
          "base_uri": "https://localhost:8080/",
          "height": 85
        }
      },
      "source": [
        "# Create class: DataShell\n",
        "class DataShell:\n",
        "  \n",
        "\t# Initialize class with self and dataList as arguments\n",
        "    def __init__(self, dataList):\n",
        "      \t# Set data as instance variable, and assign it the value of dataList\n",
        "        self.data = dataList\n",
        "        \n",
        "\t# Define method that prints data: show\n",
        "    def show(self):\n",
        "        print(self.data)\n",
        "        \n",
        "    # Define method that prints average of data: avg \n",
        "    def avg(self):\n",
        "        # Declare avg and assign it the average of data\n",
        "        avg = sum(self.data)/float(len(self.data))\n",
        "        # Print avg\n",
        "        print(avg)\n",
        "\n",
        "# use the same class to instantiate two different object\n",
        "integer_list = [1, 2, 3, 4, 5, 6, 7, 8, 9, 10]\n",
        "integer_list2 = [11, 12, 13, 14, 15, 16, 17, 18, 19, 20]\n",
        "\n",
        "# Instantiate DataShell taking integer_list as argument: my_data_shell\n",
        "my_data_shell = DataShell(integer_list)\n",
        "# Instantiate DataShell taking integer_list2 as argument: my_data_shell2\n",
        "my_data_shell2 = DataShell(integer_list2)\n",
        "\n",
        "# Call the show and avg methods of your newly created object\n",
        "my_data_shell.show()\n",
        "my_data_shell.avg()\n",
        "\n",
        "# Call the show and avg methods of your newly created object\n",
        "my_data_shell2.show()\n",
        "my_data_shell2.avg()\n",
        "\n"
      ],
      "execution_count": 0,
      "outputs": [
        {
          "output_type": "stream",
          "text": [
            "[1, 2, 3, 4, 5, 6, 7, 8, 9, 10]\n",
            "5.5\n",
            "[11, 12, 13, 14, 15, 16, 17, 18, 19, 20]\n",
            "15.5\n"
          ],
          "name": "stdout"
        }
      ]
    },
    {
      "cell_type": "markdown",
      "metadata": {
        "id": "piaAlzURrG-Q",
        "colab_type": "text"
      },
      "source": [
        "## write a program to change column name of a dataframe "
      ]
    },
    {
      "cell_type": "code",
      "metadata": {
        "id": "cZoPSaUT1wN_",
        "colab_type": "code",
        "colab": {
          "base_uri": "https://localhost:8080/",
          "height": 391
        },
        "outputId": "ea43f272-e4b0-4969-8957-da32ec5526b0"
      },
      "source": [
        "import numpy as np\n",
        "import pandas as pd\n",
        "# Create class DataShell\n",
        "class DataShell:\n",
        "\n",
        "    # Define initialization method\n",
        "    def __init__(self, filepath):\n",
        "        self.filepath = filepath\n",
        "        self.data_as_csv = pd.read_csv(filepath)\n",
        "\n",
        "    # Define method rename_column, with arguments self, column_name, and new_column_name\n",
        "    def rename_column(self, column_name, new_column_name):\n",
        "        self.data_as_csv.columns = self.data_as_csv.columns.str.replace(column_name, new_column_name)\n",
        "        \n",
        "    # Define get_stats method, with argument self\n",
        "    def get_stats(self):\n",
        "        # Return a description data_as_csv\n",
        "        return self.data_as_csv.describe()\n",
        "\n",
        "#define the file path  \n",
        "mtcars='https://gist.githubusercontent.com/seankross/a412dfbd88b3db70b74b/raw/5f23f993cd87c283ce766e7ac6b329ee7cc2e1d1/mtcars.csv'   \n",
        "# Instantiate DataShell as us_data_shell\n",
        "mtcars_shell = DataShell(mtcars)\n",
        "\n",
        "# Print the output of your objects get_stats method\n",
        "print(mtcars_shell.get_stats())\n",
        "\n",
        "# Rename your objects column 'cyl' to 'cylinder'\n",
        "mtcars_shell.rename_column('cyl', 'cylinder')\n",
        "\n",
        "# Print the output of your objects get_stats method\n",
        "print(mtcars_shell.get_stats())"
      ],
      "execution_count": 6,
      "outputs": [
        {
          "output_type": "stream",
          "text": [
            "             mpg        cyl        disp  ...         am       gear     carb\n",
            "count  32.000000  32.000000   32.000000  ...  32.000000  32.000000  32.0000\n",
            "mean   20.090625   6.187500  230.721875  ...   0.406250   3.687500   2.8125\n",
            "std     6.026948   1.785922  123.938694  ...   0.498991   0.737804   1.6152\n",
            "min    10.400000   4.000000   71.100000  ...   0.000000   3.000000   1.0000\n",
            "25%    15.425000   4.000000  120.825000  ...   0.000000   3.000000   2.0000\n",
            "50%    19.200000   6.000000  196.300000  ...   0.000000   4.000000   2.0000\n",
            "75%    22.800000   8.000000  326.000000  ...   1.000000   4.000000   4.0000\n",
            "max    33.900000   8.000000  472.000000  ...   1.000000   5.000000   8.0000\n",
            "\n",
            "[8 rows x 11 columns]\n",
            "             mpg   cylinder        disp  ...         am       gear     carb\n",
            "count  32.000000  32.000000   32.000000  ...  32.000000  32.000000  32.0000\n",
            "mean   20.090625   6.187500  230.721875  ...   0.406250   3.687500   2.8125\n",
            "std     6.026948   1.785922  123.938694  ...   0.498991   0.737804   1.6152\n",
            "min    10.400000   4.000000   71.100000  ...   0.000000   3.000000   1.0000\n",
            "25%    15.425000   4.000000  120.825000  ...   0.000000   3.000000   2.0000\n",
            "50%    19.200000   6.000000  196.300000  ...   0.000000   4.000000   2.0000\n",
            "75%    22.800000   8.000000  326.000000  ...   1.000000   4.000000   4.0000\n",
            "max    33.900000   8.000000  472.000000  ...   1.000000   5.000000   8.0000\n",
            "\n",
            "[8 rows x 11 columns]\n"
          ],
          "name": "stdout"
        }
      ]
    },
    {
      "cell_type": "markdown",
      "metadata": {
        "id": "yZfcSIdTBrS5",
        "colab_type": "text"
      },
      "source": [
        "## inheritence"
      ]
    },
    {
      "cell_type": "code",
      "metadata": {
        "id": "UmWFZOfD76Qr",
        "colab_type": "code",
        "colab": {
          "base_uri": "https://localhost:8080/",
          "height": 51
        },
        "outputId": "60128e36-86e6-4f49-df57-d020ef681074"
      },
      "source": [
        "# Create a class Animal\n",
        "class Animal:\n",
        "\tdef __init__(self, name):\n",
        "\t\tself.name = name\n",
        "\n",
        "# Create a class Mammal, which inherits from Animal\n",
        "class Mammal(Animal):\n",
        "\tdef __init__(self, name, animal_type):\n",
        "\t\tself.animal_type= animal_type\n",
        "\n",
        "# Create a class Reptile, which also inherits from Animal\n",
        "class Reptile(Animal):\n",
        "\tdef __init__(self, name, animal_type):\n",
        "\t\tself.animal_type= animal_type\n",
        "\n",
        "# Instantiate a mammal with name 'Daisy' and animal_type 'dog': daisy\n",
        "daisy = Mammal('Daisy', 'dog')\n",
        "\n",
        "# Instantiate a reptile with name 'Stella' and animal_type 'alligator': stella\n",
        "stella = Reptile('Stella', 'alligator')\n",
        "\n",
        "# Print both objects\n",
        "print(daisy)\n",
        "print(stella)"
      ],
      "execution_count": 7,
      "outputs": [
        {
          "output_type": "stream",
          "text": [
            "<__main__.Mammal object at 0x7f99d5f385c0>\n",
            "<__main__.Reptile object at 0x7f99d5f38748>\n"
          ],
          "name": "stdout"
        }
      ]
    },
    {
      "cell_type": "code",
      "metadata": {
        "id": "7D6HcFJT8vnP",
        "colab_type": "code",
        "colab": {
          "base_uri": "https://localhost:8080/",
          "height": 85
        },
        "outputId": "a2da9063-5ebd-487d-9088-9494e3ca9562"
      },
      "source": [
        "# Create a class Vertebrate\n",
        "class Vertebrate:\n",
        "    spinal_cord = True\n",
        "    def __init__(self, name):\n",
        "        self.name = name\n",
        "\n",
        "# Create a class Mammal, which inherits from Vertebrate\n",
        "class Mammal(Vertebrate):\n",
        "    def __init__(self, name, animal_type):\n",
        "        self.animal_type = animal_type\n",
        "        self.temperature_regulation = True\n",
        "\n",
        "# Create a class Reptile, which also inherits from Vertebrate\n",
        "class Reptile(Vertebrate):\n",
        "    def __init__(self, name, animal_type):\n",
        "        self.animal_type = animal_type\n",
        "        self.temperature_regulation = False\n",
        "\n",
        "# Instantiate a mammal with name 'Daisy' and animal_type 'dog': daisy\n",
        "daisy = Mammal('Daisy', 'dog')\n",
        "\n",
        "# Instantiate a reptile with name 'Stella' and animal_type 'alligator': stella\n",
        "stella = Reptile('Stella', 'alligator')\n",
        "\n",
        "# Print stella's attributes spinal_cord and temperature_regulation\n",
        "print(\"Stella Spinal cord: \" + str(stella.spinal_cord))\n",
        "print(\"Stella temperature regulation: \" + str(stella.temperature_regulation))\n",
        "\n",
        "# Print daisy's attributes spinal_cord and temperature_regulation\n",
        "print(\"Daisy Spinal cord: \" + str(daisy.spinal_cord))\n",
        "print(\"Daisy temperature regulation: \" + str(daisy.temperature_regulation))"
      ],
      "execution_count": 8,
      "outputs": [
        {
          "output_type": "stream",
          "text": [
            "Stella Spinal cord: True\n",
            "Stella temperature regulation: False\n",
            "Daisy Spinal cord: True\n",
            "Daisy temperature regulation: True\n"
          ],
          "name": "stdout"
        }
      ]
    },
    {
      "cell_type": "markdown",
      "metadata": {
        "id": "Ldk9bQfzDqxC",
        "colab_type": "text"
      },
      "source": [
        "## composition"
      ]
    },
    {
      "cell_type": "code",
      "metadata": {
        "id": "1Kokjf3iDpdr",
        "colab_type": "code",
        "colab": {}
      },
      "source": [
        "# Define abstract class DataShell\n",
        "class DataShell:\n",
        "    # Class variable family\n",
        "    family = 'DataShell'\n",
        "    # Initialization method with arguments, and instance variables\n",
        "    def __init__(self, name, filepath): \n",
        "        self.name = name\n",
        "        self.filepath = filepath\n",
        "\n",
        "# Define class CsvDataShell      \n",
        "class CsvDataShell(DataShell):\n",
        "    # Initialization method with arguments self, name, filepath\n",
        "    def __init__(self, name, filepath):\n",
        "        # Instance variable data\n",
        "        self.data = pd.read_csv(filepath)\n",
        "        # Instance variable stats\n",
        "        self.stats = self.data.describe()\n",
        "\n",
        "# Instantiate CsvDataShell as us_data_shell\n",
        "us_data_shell = CsvDataShell(\"US\", us_life_expectancy)\n",
        "\n",
        "# Print us_data_shell.stats\n",
        "print(us_data_shell.stats)"
      ],
      "execution_count": 0,
      "outputs": []
    },
    {
      "cell_type": "code",
      "metadata": {
        "id": "jrQS1bwREqa4",
        "colab_type": "code",
        "colab": {
          "base_uri": "https://localhost:8080/",
          "height": 232
        },
        "outputId": "6ff4dfc5-3a30-42c5-acf4-c792bf8b9605"
      },
      "source": [
        "# Define abstract class DataShell\n",
        "class DataShell:\n",
        "    family = 'DataShell'\n",
        "    def __init__(self, name, filepath): \n",
        "        self.name = name\n",
        "        self.filepath = filepath\n",
        "\n",
        "# Define class CsvDataShell\n",
        "class CsvDataShell(DataShell):\n",
        "    def __init__(self, name, filepath):\n",
        "        self.data = pd.read_csv(filepath)\n",
        "        self.stats = self.data.describe()\n",
        "\n",
        "# Define class TsvDataShell\n",
        "class TsvDataShell(DataShell):\n",
        "    # Initialization method with arguments self, name, filepath\n",
        "    def __init__(self, name, filepath):\n",
        "        # Instance variable data\n",
        "        self.data = pd.read_csv(filepath)\n",
        "        # Instance variable stats\n",
        "        self.stats = self.data.describe()\n",
        "\n",
        "# Instantiate CsvDataShell as us_data_shell, print us_data_shell.stats\n",
        "us_data_shell = CsvDataShell(\"US\", us_life_expectancy)\n",
        "print(us_data_shell.stats)\n",
        "\n",
        "# Instantiate TsvDataShell as france_data_shell, print france_data_shell.stats\n",
        "france_data_shell = TsvDataShell(\"France\", france_life_expectancy)\n",
        "print(france_data_shell.stats)"
      ],
      "execution_count": 9,
      "outputs": [
        {
          "output_type": "error",
          "ename": "NameError",
          "evalue": "ignored",
          "traceback": [
            "\u001b[0;31m---------------------------------------------------------------------------\u001b[0m",
            "\u001b[0;31mNameError\u001b[0m                                 Traceback (most recent call last)",
            "\u001b[0;32m<ipython-input-9-436233fc06c1>\u001b[0m in \u001b[0;36m<module>\u001b[0;34m()\u001b[0m\n\u001b[1;32m     21\u001b[0m \u001b[0;34m\u001b[0m\u001b[0m\n\u001b[1;32m     22\u001b[0m \u001b[0;31m# Instantiate CsvDataShell as us_data_shell, print us_data_shell.stats\u001b[0m\u001b[0;34m\u001b[0m\u001b[0;34m\u001b[0m\u001b[0;34m\u001b[0m\u001b[0m\n\u001b[0;32m---> 23\u001b[0;31m \u001b[0mus_data_shell\u001b[0m \u001b[0;34m=\u001b[0m \u001b[0mCsvDataShell\u001b[0m\u001b[0;34m(\u001b[0m\u001b[0;34m\"US\"\u001b[0m\u001b[0;34m,\u001b[0m \u001b[0mus_life_expectancy\u001b[0m\u001b[0;34m)\u001b[0m\u001b[0;34m\u001b[0m\u001b[0;34m\u001b[0m\u001b[0m\n\u001b[0m\u001b[1;32m     24\u001b[0m \u001b[0mprint\u001b[0m\u001b[0;34m(\u001b[0m\u001b[0mus_data_shell\u001b[0m\u001b[0;34m.\u001b[0m\u001b[0mstats\u001b[0m\u001b[0;34m)\u001b[0m\u001b[0;34m\u001b[0m\u001b[0;34m\u001b[0m\u001b[0m\n\u001b[1;32m     25\u001b[0m \u001b[0;34m\u001b[0m\u001b[0m\n",
            "\u001b[0;31mNameError\u001b[0m: name 'us_life_expectancy' is not defined"
          ]
        }
      ]
    }
  ]
}
